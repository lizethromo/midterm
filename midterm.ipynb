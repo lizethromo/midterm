{
  "nbformat": 4,
  "nbformat_minor": 0,
  "metadata": {
    "kernelspec": {
      "display_name": "Python 3",
      "language": "python",
      "name": "python3"
    },
    "language_info": {
      "codemirror_mode": {
        "name": "ipython",
        "version": 3
      },
      "file_extension": ".py",
      "mimetype": "text/x-python",
      "name": "python",
      "nbconvert_exporter": "python",
      "pygments_lexer": "ipython3",
      "version": "3.7.7"
    },
    "toc": {
      "base_numbering": 1,
      "nav_menu": {},
      "number_sections": true,
      "sideBar": true,
      "skip_h1_title": false,
      "title_cell": "Table of Contents",
      "title_sidebar": "Contents",
      "toc_cell": false,
      "toc_position": {},
      "toc_section_display": true,
      "toc_window_display": false
    },
    "colab": {
      "name": "midterm.ipynb",
      "provenance": []
    }
  },
  "cells": [
    {
      "cell_type": "markdown",
      "metadata": {
        "id": "MfjwDKwvcG4S",
        "colab_type": "text"
      },
      "source": [
        "# Midterm mini-project\n",
        "\n",
        "**Due Friday, May 15.**\n",
        "\n",
        "*Lizeth D. Romo*\n",
        "\n",
        "\n",
        "### Checklist\n",
        "\n",
        "Before submitting, make sure that your report\n",
        "\n",
        "- Introduces a computational topic or method  \n",
        "- Provides background: what kind of problem is this meant to solve?  \n",
        "- Explains the topic/method: how does it work (in words and possibly in equations, as appropriate)?  \n",
        "- Gives an example application: if the project is focused on a particular type of problem, where is this problem encountered? If it is focused on a method, in what situations is the method useful?  \n",
        "- Is $\\approx 500$ words in length (a little less is fine as long as you hit the main points, and more is also okay)  \n",
        "\n",
        "Optionally, you can also include a worked example in Python. \n",
        "\n",
        "And as always, make sure to\n",
        "\n",
        "- Fill in your name above  \n",
        "- Cite any resources that you used while working on this assignment"
      ]
    },
    {
      "cell_type": "markdown",
      "metadata": {
        "id": "LzjTPVOacG4U",
        "colab_type": "text"
      },
      "source": [
        "\n",
        "\n",
        "```\n",
        "# This is formatted as code\n",
        "```\n",
        "\n",
        "## Logistic Regression\n",
        "\n",
        "Logistic regression is a machine learning algorithm which is used to decode what the probability of an output is. This can be a binary or dichotomous output where the dependent variable has only two output options such as boy and girl, or can be a multi-linear function such as red, blue, yellow. The algorithm used is a predictive algorithm based on previous data that has been recorded and input into the software of the machine in order for it to predict the probability of the outcomes most accurately. \n",
        "\n",
        "A visual representation of logistic regression is as follows.\n"
      ]
    },
    {
      "cell_type": "markdown",
      "metadata": {
        "id": "5Djc22o8o_yH",
        "colab_type": "text"
      },
      "source": [
        "\n",
        "![alt text](https://techdifferences.com/wp-content/uploads/2018/01/graph-logistic-regression.jpg)"
      ]
    },
    {
      "cell_type": "markdown",
      "metadata": {
        "id": "gTJ1sYKqpXtb",
        "colab_type": "text"
      },
      "source": [
        "This image signifies the complex cost function that is also known as “Sigmoid Function” which is not linear. As the image states, the output will be a value between 0 and 1 where the function appears to converge. The function is used to map out a visual representation of the predictions of outputs. What this is based off is is a decision boundary which does exactly what it sounds like. The algorithm finds a threshold in which the youtube will be either 0 or 1. If the output is below or above the threshold, then it will classify the output as one of the two options as previously mentioned girl and boy. An example of a threshold is as follows."
      ]
    },
    {
      "cell_type": "markdown",
      "metadata": {
        "id": "X9zdfdXfpyDk",
        "colab_type": "text"
      },
      "source": [
        "![alt text](https://miro.medium.com/max/990/1*2Vsum532aNQX9TgR7_rAzQ.png)"
      ]
    },
    {
      "cell_type": "markdown",
      "metadata": {
        "id": "ksOivZCJp5SV",
        "colab_type": "text"
      },
      "source": [
        "Between 0 and 1, the decision boundary is 0.5 and anything below that line will go to 0 and anything above will go to 1. However, if it lands on the boundary where f(x)=0.5, it would be considered an uncertain value. This is how decision boundaries function in logistic regression."
      ]
    }
  ]
}